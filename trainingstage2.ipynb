{
 "cells": [
  {
   "cell_type": "code",
   "execution_count": 1,
   "metadata": {},
   "outputs": [],
   "source": [
    "import os\n",
    "import yaml\n",
    "import numpy as np\n",
    "import tensorflow as tf\n",
    "from sklearn.model_selection import train_test_split\n",
    "from tensorflow.keras import layers, models\n",
    "import json"
   ]
  },
  {
   "cell_type": "markdown",
   "metadata": {},
   "source": [
    "Preprocessing"
   ]
  },
  {
   "cell_type": "code",
   "execution_count": 2,
   "metadata": {},
   "outputs": [],
   "source": [
    "# Load and preprocess data\n",
    "def load_data(directory):\n",
    "    data = []\n",
    "    labels = []\n",
    "    \n",
    "    for filename in os.listdir(directory):\n",
    "        if filename.endswith(\".yml\"):\n",
    "            with open(os.path.join(directory, filename), 'r') as yaml_file:\n",
    "                hand_data = yaml.safe_load(yaml_file)\n",
    "                landmarks = [point['x'] for point in hand_data['hand_landmarks']]\n",
    "                data.append(landmarks)\n",
    "                labels.append(directory.split(\"/\")[-1])  # Assuming the class label is the last part of the directory\n",
    "\n",
    "    return np.array(data), labels"
   ]
  },
  {
   "cell_type": "code",
   "execution_count": 3,
   "metadata": {},
   "outputs": [],
   "source": [
    "# Prepare dataset\n",
    "signs_dir = \"Signs\"\n",
    "classes = os.listdir(signs_dir)\n",
    "all_data = []\n",
    "all_labels = []\n"
   ]
  },
  {
   "cell_type": "code",
   "execution_count": 4,
   "metadata": {},
   "outputs": [],
   "source": [
    "# Convert list to dictionary\n",
    "my_dict = {i: classes[i] for i in range(len(classes))}\n",
    "\n",
    "# Save the dictionary to a JSON file\n",
    "with open('labels_info.json', 'w') as json_file:\n",
    "    json.dump(my_dict, json_file)"
   ]
  },
  {
   "cell_type": "code",
   "execution_count": 5,
   "metadata": {},
   "outputs": [
    {
     "name": "stdout",
     "output_type": "stream",
     "text": [
      "[]\n",
      "['A', 'B', 'C', 'D', 'E', 'F', 'G', 'H', 'Hello', 'I', 'I love You', 'J', 'K', 'L', 'M', 'N', 'O', 'P', 'Q', 'R', 'S', 'T', 'U', 'V', 'W', 'X', 'Y', 'Z']\n"
     ]
    }
   ],
   "source": [
    "print(all_labels)\n",
    "print(classes)"
   ]
  },
  {
   "cell_type": "code",
   "execution_count": 6,
   "metadata": {},
   "outputs": [],
   "source": [
    "for sign_class in classes:\n",
    "    data, labels = load_data(os.path.join(signs_dir, sign_class))\n",
    "    all_data.extend(data)\n",
    "    all_labels.extend(labels)\n"
   ]
  },
  {
   "cell_type": "code",
   "execution_count": 7,
   "metadata": {},
   "outputs": [],
   "source": [
    "# Convert labels to integers\n",
    "label_to_int = {label: i for i, label in enumerate(set(all_labels))}\n",
    "all_labels = [label_to_int[label] for label in all_labels]"
   ]
  },
  {
   "cell_type": "code",
   "execution_count": 8,
   "metadata": {},
   "outputs": [
    {
     "name": "stdout",
     "output_type": "stream",
     "text": [
      "{'Signs\\\\K': 0, 'Signs\\\\Hello': 1, 'Signs\\\\S': 2, 'Signs\\\\O': 3, 'Signs\\\\A': 4, 'Signs\\\\B': 5, 'Signs\\\\U': 6, 'Signs\\\\Z': 7, 'Signs\\\\V': 8, 'Signs\\\\N': 9, 'Signs\\\\Y': 10, 'Signs\\\\T': 11, 'Signs\\\\Q': 12, 'Signs\\\\F': 13, 'Signs\\\\I love You': 14, 'Signs\\\\D': 15, 'Signs\\\\G': 16, 'Signs\\\\M': 17, 'Signs\\\\P': 18, 'Signs\\\\W': 19, 'Signs\\\\H': 20, 'Signs\\\\X': 21, 'Signs\\\\L': 22, 'Signs\\\\J': 23, 'Signs\\\\E': 24, 'Signs\\\\I': 25, 'Signs\\\\C': 26, 'Signs\\\\R': 27}\n"
     ]
    }
   ],
   "source": [
    "print(label_to_int)"
   ]
  },
  {
   "cell_type": "markdown",
   "metadata": {},
   "source": [
    "Training"
   ]
  },
  {
   "cell_type": "code",
   "execution_count": 9,
   "metadata": {},
   "outputs": [],
   "source": [
    "# Convert data to numpy array\n",
    "X_data = np.array(all_data)\n",
    "y_labels = np.array(all_labels)\n"
   ]
  },
  {
   "cell_type": "code",
   "execution_count": 10,
   "metadata": {},
   "outputs": [],
   "source": [
    "# Split the dataset\n",
    "X_train, X_test, y_train, y_test = train_test_split(X_data, y_labels, test_size=0.2, random_state=42)\n"
   ]
  },
  {
   "cell_type": "code",
   "execution_count": 11,
   "metadata": {},
   "outputs": [],
   "source": [
    "# Build the model\n",
    "model = models.Sequential([\n",
    "    layers.Dense(128, activation='relu', input_shape=(X_train.shape[1],)),\n",
    "    layers.Dense(64, activation='relu'),\n",
    "    layers.Dense(len(set(all_labels)), activation='softmax')\n",
    "])"
   ]
  },
  {
   "cell_type": "code",
   "execution_count": 13,
   "metadata": {},
   "outputs": [],
   "source": [
    "model.compile(optimizer='adam', loss='sparse_categorical_crossentropy', metrics=['accuracy'])\n"
   ]
  },
  {
   "cell_type": "code",
   "execution_count": 14,
   "metadata": {},
   "outputs": [
    {
     "name": "stdout",
     "output_type": "stream",
     "text": [
      "Epoch 1/100\n",
      "140/140 [==============================] - 1s 3ms/step - loss: 3.3151 - accuracy: 0.0413 - val_loss: 3.2993 - val_accuracy: 0.0696\n",
      "Epoch 2/100\n",
      "140/140 [==============================] - 0s 2ms/step - loss: 3.2267 - accuracy: 0.1089 - val_loss: 3.1522 - val_accuracy: 0.1205\n",
      "Epoch 3/100\n",
      "140/140 [==============================] - 0s 2ms/step - loss: 2.9657 - accuracy: 0.1513 - val_loss: 2.8206 - val_accuracy: 0.1321\n",
      "Epoch 4/100\n",
      "140/140 [==============================] - 0s 2ms/step - loss: 2.6010 - accuracy: 0.2480 - val_loss: 2.4688 - val_accuracy: 0.2527\n",
      "Epoch 5/100\n",
      "140/140 [==============================] - 0s 2ms/step - loss: 2.2621 - accuracy: 0.3723 - val_loss: 2.1783 - val_accuracy: 0.3589\n",
      "Epoch 6/100\n",
      "140/140 [==============================] - 0s 2ms/step - loss: 1.9711 - accuracy: 0.4853 - val_loss: 1.9076 - val_accuracy: 0.4750\n",
      "Epoch 7/100\n",
      "140/140 [==============================] - 0s 2ms/step - loss: 1.7281 - accuracy: 0.5647 - val_loss: 1.6646 - val_accuracy: 0.5920\n",
      "Epoch 8/100\n",
      "140/140 [==============================] - 0s 2ms/step - loss: 1.5252 - accuracy: 0.6054 - val_loss: 1.5015 - val_accuracy: 0.6313\n",
      "Epoch 9/100\n",
      "140/140 [==============================] - 0s 2ms/step - loss: 1.3666 - accuracy: 0.6663 - val_loss: 1.3446 - val_accuracy: 0.6580\n",
      "Epoch 10/100\n",
      "140/140 [==============================] - 0s 2ms/step - loss: 1.2377 - accuracy: 0.6982 - val_loss: 1.2074 - val_accuracy: 0.7277\n",
      "Epoch 11/100\n",
      "140/140 [==============================] - 0s 2ms/step - loss: 1.1291 - accuracy: 0.7364 - val_loss: 1.1043 - val_accuracy: 0.7304\n",
      "Epoch 12/100\n",
      "140/140 [==============================] - 0s 2ms/step - loss: 1.0361 - accuracy: 0.7658 - val_loss: 1.0150 - val_accuracy: 0.7589\n",
      "Epoch 13/100\n",
      "140/140 [==============================] - 0s 3ms/step - loss: 0.9599 - accuracy: 0.7902 - val_loss: 0.9478 - val_accuracy: 0.7929\n",
      "Epoch 14/100\n",
      "140/140 [==============================] - 0s 2ms/step - loss: 0.8957 - accuracy: 0.8027 - val_loss: 0.8945 - val_accuracy: 0.8188\n",
      "Epoch 15/100\n",
      "140/140 [==============================] - 0s 2ms/step - loss: 0.8395 - accuracy: 0.8257 - val_loss: 0.8269 - val_accuracy: 0.8205\n",
      "Epoch 16/100\n",
      "140/140 [==============================] - 0s 2ms/step - loss: 0.7935 - accuracy: 0.8337 - val_loss: 0.8010 - val_accuracy: 0.8348\n",
      "Epoch 17/100\n",
      "140/140 [==============================] - 0s 2ms/step - loss: 0.7492 - accuracy: 0.8395 - val_loss: 0.7282 - val_accuracy: 0.8455\n",
      "Epoch 18/100\n",
      "140/140 [==============================] - 0s 2ms/step - loss: 0.7077 - accuracy: 0.8504 - val_loss: 0.7222 - val_accuracy: 0.8223\n",
      "Epoch 19/100\n",
      "140/140 [==============================] - 0s 2ms/step - loss: 0.6757 - accuracy: 0.8509 - val_loss: 0.7040 - val_accuracy: 0.8304\n",
      "Epoch 20/100\n",
      "140/140 [==============================] - 0s 3ms/step - loss: 0.6424 - accuracy: 0.8627 - val_loss: 0.6490 - val_accuracy: 0.8482\n",
      "Epoch 21/100\n",
      "140/140 [==============================] - 0s 2ms/step - loss: 0.6095 - accuracy: 0.8795 - val_loss: 0.5949 - val_accuracy: 0.8884\n",
      "Epoch 22/100\n",
      "140/140 [==============================] - 0s 2ms/step - loss: 0.5830 - accuracy: 0.8862 - val_loss: 0.5787 - val_accuracy: 0.8821\n",
      "Epoch 23/100\n",
      "140/140 [==============================] - 0s 2ms/step - loss: 0.5653 - accuracy: 0.8879 - val_loss: 0.5639 - val_accuracy: 0.8723\n",
      "Epoch 24/100\n",
      "140/140 [==============================] - 0s 2ms/step - loss: 0.5413 - accuracy: 0.8942 - val_loss: 0.5336 - val_accuracy: 0.8857\n",
      "Epoch 25/100\n",
      "140/140 [==============================] - 0s 2ms/step - loss: 0.5205 - accuracy: 0.8949 - val_loss: 0.5116 - val_accuracy: 0.9027\n",
      "Epoch 26/100\n",
      "140/140 [==============================] - 0s 2ms/step - loss: 0.4981 - accuracy: 0.8975 - val_loss: 0.5298 - val_accuracy: 0.8750\n",
      "Epoch 27/100\n",
      "140/140 [==============================] - 0s 2ms/step - loss: 0.4866 - accuracy: 0.9033 - val_loss: 0.5007 - val_accuracy: 0.8911\n",
      "Epoch 28/100\n",
      "140/140 [==============================] - 0s 2ms/step - loss: 0.4691 - accuracy: 0.9062 - val_loss: 0.4898 - val_accuracy: 0.8982\n",
      "Epoch 29/100\n",
      "140/140 [==============================] - 0s 2ms/step - loss: 0.4624 - accuracy: 0.9020 - val_loss: 0.4882 - val_accuracy: 0.8813\n",
      "Epoch 30/100\n",
      "140/140 [==============================] - 0s 2ms/step - loss: 0.4447 - accuracy: 0.9114 - val_loss: 0.4445 - val_accuracy: 0.9036\n",
      "Epoch 31/100\n",
      "140/140 [==============================] - 0s 2ms/step - loss: 0.4340 - accuracy: 0.9109 - val_loss: 0.4291 - val_accuracy: 0.9170\n",
      "Epoch 32/100\n",
      "140/140 [==============================] - 0s 3ms/step - loss: 0.4233 - accuracy: 0.9080 - val_loss: 0.4168 - val_accuracy: 0.9089\n",
      "Epoch 33/100\n",
      "140/140 [==============================] - 0s 2ms/step - loss: 0.4124 - accuracy: 0.9158 - val_loss: 0.4312 - val_accuracy: 0.8920\n",
      "Epoch 34/100\n",
      "140/140 [==============================] - 0s 2ms/step - loss: 0.4029 - accuracy: 0.9129 - val_loss: 0.4079 - val_accuracy: 0.9080\n",
      "Epoch 35/100\n",
      "140/140 [==============================] - 0s 2ms/step - loss: 0.3827 - accuracy: 0.9208 - val_loss: 0.3869 - val_accuracy: 0.9170\n",
      "Epoch 36/100\n",
      "140/140 [==============================] - 0s 2ms/step - loss: 0.3794 - accuracy: 0.9221 - val_loss: 0.4022 - val_accuracy: 0.9107\n",
      "Epoch 37/100\n",
      "140/140 [==============================] - 0s 2ms/step - loss: 0.3709 - accuracy: 0.9234 - val_loss: 0.3936 - val_accuracy: 0.9009\n",
      "Epoch 38/100\n",
      "140/140 [==============================] - 0s 3ms/step - loss: 0.3630 - accuracy: 0.9254 - val_loss: 0.4012 - val_accuracy: 0.9062\n",
      "Epoch 39/100\n",
      "140/140 [==============================] - 0s 2ms/step - loss: 0.3528 - accuracy: 0.9232 - val_loss: 0.3735 - val_accuracy: 0.9152\n",
      "Epoch 40/100\n",
      "140/140 [==============================] - 0s 2ms/step - loss: 0.3538 - accuracy: 0.9261 - val_loss: 0.3700 - val_accuracy: 0.9098\n",
      "Epoch 41/100\n",
      "140/140 [==============================] - 0s 2ms/step - loss: 0.3371 - accuracy: 0.9295 - val_loss: 0.3954 - val_accuracy: 0.9018\n",
      "Epoch 42/100\n",
      "140/140 [==============================] - 0s 2ms/step - loss: 0.3334 - accuracy: 0.9288 - val_loss: 0.3476 - val_accuracy: 0.9214\n",
      "Epoch 43/100\n",
      "140/140 [==============================] - 0s 2ms/step - loss: 0.3268 - accuracy: 0.9279 - val_loss: 0.3506 - val_accuracy: 0.9116\n",
      "Epoch 44/100\n",
      "140/140 [==============================] - 0s 3ms/step - loss: 0.3217 - accuracy: 0.9317 - val_loss: 0.3415 - val_accuracy: 0.9134\n",
      "Epoch 45/100\n",
      "140/140 [==============================] - 0s 3ms/step - loss: 0.3186 - accuracy: 0.9315 - val_loss: 0.3201 - val_accuracy: 0.9259\n",
      "Epoch 46/100\n",
      "140/140 [==============================] - 0s 3ms/step - loss: 0.3036 - accuracy: 0.9350 - val_loss: 0.3185 - val_accuracy: 0.9330\n",
      "Epoch 47/100\n",
      "140/140 [==============================] - 0s 3ms/step - loss: 0.3104 - accuracy: 0.9310 - val_loss: 0.3190 - val_accuracy: 0.9304\n",
      "Epoch 48/100\n",
      "140/140 [==============================] - 0s 3ms/step - loss: 0.2959 - accuracy: 0.9373 - val_loss: 0.3277 - val_accuracy: 0.9241\n",
      "Epoch 49/100\n",
      "140/140 [==============================] - 1s 4ms/step - loss: 0.2980 - accuracy: 0.9337 - val_loss: 0.3636 - val_accuracy: 0.9107\n",
      "Epoch 50/100\n",
      "140/140 [==============================] - 0s 3ms/step - loss: 0.2902 - accuracy: 0.9353 - val_loss: 0.3128 - val_accuracy: 0.9312\n",
      "Epoch 51/100\n",
      "140/140 [==============================] - 0s 2ms/step - loss: 0.2858 - accuracy: 0.9391 - val_loss: 0.3000 - val_accuracy: 0.9250\n",
      "Epoch 52/100\n",
      "140/140 [==============================] - 0s 3ms/step - loss: 0.2761 - accuracy: 0.9357 - val_loss: 0.2858 - val_accuracy: 0.9393\n",
      "Epoch 53/100\n",
      "140/140 [==============================] - 0s 3ms/step - loss: 0.2765 - accuracy: 0.9388 - val_loss: 0.2855 - val_accuracy: 0.9366\n",
      "Epoch 54/100\n",
      "140/140 [==============================] - 0s 2ms/step - loss: 0.2732 - accuracy: 0.9415 - val_loss: 0.2815 - val_accuracy: 0.9402\n",
      "Epoch 55/100\n",
      "140/140 [==============================] - 0s 3ms/step - loss: 0.2655 - accuracy: 0.9431 - val_loss: 0.2908 - val_accuracy: 0.9312\n",
      "Epoch 56/100\n",
      "140/140 [==============================] - 0s 2ms/step - loss: 0.2632 - accuracy: 0.9429 - val_loss: 0.3053 - val_accuracy: 0.9259\n",
      "Epoch 57/100\n",
      "140/140 [==============================] - 0s 3ms/step - loss: 0.2591 - accuracy: 0.9429 - val_loss: 0.2710 - val_accuracy: 0.9375\n",
      "Epoch 58/100\n",
      "140/140 [==============================] - 0s 3ms/step - loss: 0.2506 - accuracy: 0.9484 - val_loss: 0.2756 - val_accuracy: 0.9357\n",
      "Epoch 59/100\n",
      "140/140 [==============================] - 0s 3ms/step - loss: 0.2497 - accuracy: 0.9478 - val_loss: 0.2609 - val_accuracy: 0.9429\n",
      "Epoch 60/100\n",
      "140/140 [==============================] - 0s 2ms/step - loss: 0.2520 - accuracy: 0.9446 - val_loss: 0.2547 - val_accuracy: 0.9491\n",
      "Epoch 61/100\n",
      "140/140 [==============================] - 0s 2ms/step - loss: 0.2451 - accuracy: 0.9482 - val_loss: 0.2611 - val_accuracy: 0.9295\n",
      "Epoch 62/100\n",
      "140/140 [==============================] - 0s 2ms/step - loss: 0.2377 - accuracy: 0.9502 - val_loss: 0.2643 - val_accuracy: 0.9393\n",
      "Epoch 63/100\n",
      "140/140 [==============================] - 0s 2ms/step - loss: 0.2362 - accuracy: 0.9513 - val_loss: 0.2560 - val_accuracy: 0.9446\n",
      "Epoch 64/100\n",
      "140/140 [==============================] - 0s 2ms/step - loss: 0.2357 - accuracy: 0.9475 - val_loss: 0.2722 - val_accuracy: 0.9348\n",
      "Epoch 65/100\n",
      "140/140 [==============================] - 0s 2ms/step - loss: 0.2291 - accuracy: 0.9500 - val_loss: 0.2403 - val_accuracy: 0.9446\n",
      "Epoch 66/100\n",
      "140/140 [==============================] - 0s 2ms/step - loss: 0.2307 - accuracy: 0.9500 - val_loss: 0.2550 - val_accuracy: 0.9446\n",
      "Epoch 67/100\n",
      "140/140 [==============================] - 0s 2ms/step - loss: 0.2272 - accuracy: 0.9518 - val_loss: 0.2482 - val_accuracy: 0.9384\n",
      "Epoch 68/100\n",
      "140/140 [==============================] - 0s 2ms/step - loss: 0.2220 - accuracy: 0.9545 - val_loss: 0.2434 - val_accuracy: 0.9429\n",
      "Epoch 69/100\n",
      "140/140 [==============================] - 0s 2ms/step - loss: 0.2150 - accuracy: 0.9536 - val_loss: 0.2380 - val_accuracy: 0.9527\n",
      "Epoch 70/100\n",
      "140/140 [==============================] - 0s 3ms/step - loss: 0.2164 - accuracy: 0.9529 - val_loss: 0.2313 - val_accuracy: 0.9473\n",
      "Epoch 71/100\n",
      "140/140 [==============================] - 0s 3ms/step - loss: 0.2206 - accuracy: 0.9518 - val_loss: 0.2535 - val_accuracy: 0.9393\n",
      "Epoch 72/100\n",
      "140/140 [==============================] - 0s 2ms/step - loss: 0.2156 - accuracy: 0.9540 - val_loss: 0.2460 - val_accuracy: 0.9509\n",
      "Epoch 73/100\n",
      "140/140 [==============================] - 0s 2ms/step - loss: 0.2128 - accuracy: 0.9509 - val_loss: 0.2495 - val_accuracy: 0.9393\n",
      "Epoch 74/100\n",
      "140/140 [==============================] - 0s 2ms/step - loss: 0.2117 - accuracy: 0.9545 - val_loss: 0.2375 - val_accuracy: 0.9482\n",
      "Epoch 75/100\n",
      "140/140 [==============================] - 0s 2ms/step - loss: 0.2074 - accuracy: 0.9538 - val_loss: 0.2322 - val_accuracy: 0.9446\n",
      "Epoch 76/100\n",
      "140/140 [==============================] - 0s 2ms/step - loss: 0.2054 - accuracy: 0.9569 - val_loss: 0.2227 - val_accuracy: 0.9455\n",
      "Epoch 77/100\n",
      "140/140 [==============================] - 0s 2ms/step - loss: 0.2051 - accuracy: 0.9571 - val_loss: 0.2152 - val_accuracy: 0.9518\n",
      "Epoch 78/100\n",
      "140/140 [==============================] - 0s 2ms/step - loss: 0.2015 - accuracy: 0.9549 - val_loss: 0.2288 - val_accuracy: 0.9429\n",
      "Epoch 79/100\n",
      "140/140 [==============================] - 0s 2ms/step - loss: 0.2017 - accuracy: 0.9574 - val_loss: 0.2261 - val_accuracy: 0.9473\n",
      "Epoch 80/100\n",
      "140/140 [==============================] - 0s 2ms/step - loss: 0.1937 - accuracy: 0.9571 - val_loss: 0.2134 - val_accuracy: 0.9545\n",
      "Epoch 81/100\n",
      "140/140 [==============================] - 0s 2ms/step - loss: 0.1953 - accuracy: 0.9574 - val_loss: 0.2177 - val_accuracy: 0.9500\n",
      "Epoch 82/100\n",
      "140/140 [==============================] - 0s 2ms/step - loss: 0.1916 - accuracy: 0.9585 - val_loss: 0.2127 - val_accuracy: 0.9616\n",
      "Epoch 83/100\n",
      "140/140 [==============================] - 0s 2ms/step - loss: 0.1912 - accuracy: 0.9623 - val_loss: 0.2275 - val_accuracy: 0.9420\n",
      "Epoch 84/100\n",
      "140/140 [==============================] - 0s 2ms/step - loss: 0.1937 - accuracy: 0.9571 - val_loss: 0.2113 - val_accuracy: 0.9580\n",
      "Epoch 85/100\n",
      "140/140 [==============================] - 0s 2ms/step - loss: 0.1856 - accuracy: 0.9596 - val_loss: 0.2031 - val_accuracy: 0.9563\n",
      "Epoch 86/100\n",
      "140/140 [==============================] - 0s 2ms/step - loss: 0.1868 - accuracy: 0.9569 - val_loss: 0.2122 - val_accuracy: 0.9527\n",
      "Epoch 87/100\n",
      "140/140 [==============================] - 0s 2ms/step - loss: 0.1829 - accuracy: 0.9594 - val_loss: 0.2405 - val_accuracy: 0.9438\n",
      "Epoch 88/100\n",
      "140/140 [==============================] - 0s 2ms/step - loss: 0.1838 - accuracy: 0.9594 - val_loss: 0.2128 - val_accuracy: 0.9580\n",
      "Epoch 89/100\n",
      "140/140 [==============================] - 0s 2ms/step - loss: 0.1794 - accuracy: 0.9618 - val_loss: 0.2208 - val_accuracy: 0.9482\n",
      "Epoch 90/100\n",
      "140/140 [==============================] - 0s 2ms/step - loss: 0.1835 - accuracy: 0.9567 - val_loss: 0.2190 - val_accuracy: 0.9536\n",
      "Epoch 91/100\n",
      "140/140 [==============================] - 0s 2ms/step - loss: 0.1780 - accuracy: 0.9612 - val_loss: 0.2207 - val_accuracy: 0.9536\n",
      "Epoch 92/100\n",
      "140/140 [==============================] - 0s 3ms/step - loss: 0.1759 - accuracy: 0.9616 - val_loss: 0.2319 - val_accuracy: 0.9429\n",
      "Epoch 93/100\n",
      "140/140 [==============================] - 0s 2ms/step - loss: 0.1740 - accuracy: 0.9652 - val_loss: 0.2118 - val_accuracy: 0.9518\n",
      "Epoch 94/100\n",
      "140/140 [==============================] - 0s 2ms/step - loss: 0.1670 - accuracy: 0.9636 - val_loss: 0.1946 - val_accuracy: 0.9580\n",
      "Epoch 95/100\n",
      "140/140 [==============================] - 0s 2ms/step - loss: 0.1712 - accuracy: 0.9623 - val_loss: 0.1882 - val_accuracy: 0.9589\n",
      "Epoch 96/100\n",
      "140/140 [==============================] - 0s 2ms/step - loss: 0.1654 - accuracy: 0.9641 - val_loss: 0.1906 - val_accuracy: 0.9563\n",
      "Epoch 97/100\n",
      "140/140 [==============================] - 0s 2ms/step - loss: 0.1682 - accuracy: 0.9603 - val_loss: 0.1860 - val_accuracy: 0.9580\n",
      "Epoch 98/100\n",
      "140/140 [==============================] - 0s 2ms/step - loss: 0.1653 - accuracy: 0.9654 - val_loss: 0.2073 - val_accuracy: 0.9429\n",
      "Epoch 99/100\n",
      "140/140 [==============================] - 0s 2ms/step - loss: 0.1686 - accuracy: 0.9638 - val_loss: 0.1970 - val_accuracy: 0.9598\n",
      "Epoch 100/100\n",
      "140/140 [==============================] - 0s 3ms/step - loss: 0.1626 - accuracy: 0.9654 - val_loss: 0.1825 - val_accuracy: 0.9580\n"
     ]
    },
    {
     "data": {
      "text/plain": [
       "<keras.src.callbacks.History at 0x184615447f0>"
      ]
     },
     "execution_count": 14,
     "metadata": {},
     "output_type": "execute_result"
    }
   ],
   "source": [
    "# Train the model\n",
    "model.fit(X_train, y_train, epochs=100, validation_data=(X_test, y_test))"
   ]
  },
  {
   "cell_type": "code",
   "execution_count": 15,
   "metadata": {},
   "outputs": [
    {
     "name": "stdout",
     "output_type": "stream",
     "text": [
      "35/35 [==============================] - 0s 1ms/step - loss: 0.1825 - accuracy: 0.9580\n",
      "Test Accuracy: 0.9580357074737549\n"
     ]
    }
   ],
   "source": [
    "# Evaluate the model\n",
    "test_loss, test_acc = model.evaluate(X_test, y_test)\n",
    "print(f\"Test Accuracy: {test_acc}\")"
   ]
  },
  {
   "cell_type": "code",
   "execution_count": 16,
   "metadata": {},
   "outputs": [
    {
     "name": "stderr",
     "output_type": "stream",
     "text": [
      "c:\\Users\\yash\\AppData\\Local\\Programs\\Python\\Python310\\lib\\site-packages\\keras\\src\\engine\\training.py:3000: UserWarning: You are saving your model as an HDF5 file via `model.save()`. This file format is considered legacy. We recommend using instead the native Keras format, e.g. `model.save('my_model.keras')`.\n",
      "  saving_api.save_model(\n"
     ]
    }
   ],
   "source": [
    "# Save the model and label mapping\n",
    "model.save('sign_language_model.h5')"
   ]
  },
  {
   "cell_type": "code",
   "execution_count": 17,
   "metadata": {},
   "outputs": [],
   "source": [
    "# Create a dictionary mapping class labels to class names\n",
    "label_to_class_name = {label_to_int[label]: label for label in label_to_int}"
   ]
  },
  {
   "cell_type": "markdown",
   "metadata": {},
   "source": [
    "Testing Data"
   ]
  },
  {
   "cell_type": "code",
   "execution_count": 18,
   "metadata": {},
   "outputs": [],
   "source": [
    "# Save the label mapping to a JSON file\n",
    "with open('label_mapping.json', 'w') as json_file:\n",
    "    json.dump(label_to_class_name, json_file)"
   ]
  },
  {
   "cell_type": "code",
   "execution_count": 19,
   "metadata": {},
   "outputs": [],
   "source": [
    "# Load the trained model\n",
    "model = tf.keras.models.load_model('sign_language_model.h5')"
   ]
  },
  {
   "cell_type": "code",
   "execution_count": 20,
   "metadata": {},
   "outputs": [],
   "source": [
    "# Load the label information from the JSON file\n",
    "with open('label_mapping.json', 'r') as json_file:\n",
    "    label_mapping = json.load(json_file)"
   ]
  },
  {
   "cell_type": "code",
   "execution_count": 21,
   "metadata": {},
   "outputs": [],
   "source": [
    "# Path to your test landmarks YAML file\n",
    "test_landmarks_path = 'Signs/Hello/left_10.yml'  # Replace with the path to your test landmarks YAML file"
   ]
  },
  {
   "cell_type": "code",
   "execution_count": 22,
   "metadata": {},
   "outputs": [],
   "source": [
    "# Function to preprocess hand landmarks\n",
    "def preprocess_hand_landmarks(hand_landmarks):\n",
    "    landmarks = [point['x'] for point in hand_landmarks['hand_landmarks']]\n",
    "    return np.array(landmarks)"
   ]
  },
  {
   "cell_type": "code",
   "execution_count": 23,
   "metadata": {},
   "outputs": [],
   "source": [
    "# Load hand landmarks data from YAML file\n",
    "with open(test_landmarks_path, 'r') as yaml_file:\n",
    "    hand_landmarks_data = yaml.safe_load(yaml_file)"
   ]
  },
  {
   "cell_type": "code",
   "execution_count": 24,
   "metadata": {},
   "outputs": [],
   "source": [
    "# Preprocess hand landmarks\n",
    "hand_landmarks_processed = preprocess_hand_landmarks(hand_landmarks_data)\n"
   ]
  },
  {
   "cell_type": "code",
   "execution_count": 25,
   "metadata": {},
   "outputs": [],
   "source": [
    "# Resize the data to match the input size expected by the model\n",
    "hand_landmarks_resized = np.expand_dims(hand_landmarks_processed, axis=0)\n"
   ]
  },
  {
   "cell_type": "code",
   "execution_count": 26,
   "metadata": {},
   "outputs": [
    {
     "name": "stdout",
     "output_type": "stream",
     "text": [
      "1/1 [==============================] - 0s 84ms/step\n",
      "22\n"
     ]
    }
   ],
   "source": [
    "# Make prediction\n",
    "prediction = model.predict(hand_landmarks_resized)\n",
    "predicted_class = np.argmax(prediction)\n",
    "print(predicted_class)\n"
   ]
  },
  {
   "cell_type": "code",
   "execution_count": 27,
   "metadata": {},
   "outputs": [],
   "source": [
    "# Map the predicted class to its corresponding class name\n",
    "predicted_class_name = label_mapping.get(str(predicted_class), \"Unknown\")\n",
    "\n",
    "# Extract only the last part of the path (class name)\n",
    "predicted_class_name = os.path.basename(predicted_class_name)"
   ]
  },
  {
   "cell_type": "code",
   "execution_count": 28,
   "metadata": {},
   "outputs": [
    {
     "name": "stdout",
     "output_type": "stream",
     "text": [
      "Predicted Class Name: L\n"
     ]
    }
   ],
   "source": [
    "# Display the predicted class name\n",
    "print(f\"Predicted Class Name: {predicted_class_name}\")"
   ]
  }
 ],
 "metadata": {
  "kernelspec": {
   "display_name": "Python 3",
   "language": "python",
   "name": "python3"
  },
  "language_info": {
   "codemirror_mode": {
    "name": "ipython",
    "version": 3
   },
   "file_extension": ".py",
   "mimetype": "text/x-python",
   "name": "python",
   "nbconvert_exporter": "python",
   "pygments_lexer": "ipython3",
   "version": "3.10.0"
  }
 },
 "nbformat": 4,
 "nbformat_minor": 2
}
